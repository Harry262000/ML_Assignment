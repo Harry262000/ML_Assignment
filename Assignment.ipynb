{
 "cells": [
  {
   "cell_type": "code",
   "execution_count": null,
   "metadata": {},
   "outputs": [
    {
     "name": "stdout",
     "output_type": "stream",
     "text": [
      "Collecting langchain==0.3.1\n",
      "  Using cached langchain-0.3.1-py3-none-any.whl.metadata (7.1 kB)\n",
      "Collecting langchain-openai==0.2.1\n",
      "  Using cached langchain_openai-0.2.1-py3-none-any.whl.metadata (2.6 kB)\n",
      "Collecting langchain-core>=0.1.0\n",
      "  Using cached langchain_core-0.3.58-py3-none-any.whl.metadata (5.9 kB)\n",
      "Collecting langgraph>0.2.27\n",
      "  Using cached langgraph-0.4.1-py3-none-any.whl.metadata (7.9 kB)\n",
      "Collecting groq==0.4.2\n",
      "  Using cached groq-0.4.2-py3-none-any.whl.metadata (12 kB)\n",
      "Requirement already satisfied: pandas==2.2.3 in d:\\anaconda\\envs\\microza\\lib\\site-packages (2.2.3)\n",
      "Collecting python-dotenv==1.0.1\n",
      "  Using cached python_dotenv-1.0.1-py3-none-any.whl.metadata (23 kB)\n",
      "Collecting streamlit==1.39.0\n",
      "  Using cached streamlit-1.39.0-py2.py3-none-any.whl.metadata (8.5 kB)\n",
      "Collecting fastapi==0.115.0\n",
      "  Using cached fastapi-0.115.0-py3-none-any.whl.metadata (27 kB)\n",
      "Collecting uvicorn==0.30.6\n",
      "  Using cached uvicorn-0.30.6-py3-none-any.whl.metadata (6.6 kB)\n",
      "Collecting pytest==8.3.3\n",
      "  Using cached pytest-8.3.3-py3-none-any.whl.metadata (7.5 kB)\n",
      "Collecting langchain-pinecone==0.1.3\n",
      "  Downloading langchain_pinecone-0.1.3-py3-none-any.whl.metadata (1.7 kB)\n",
      "Collecting langchain-chroma==0.1.4\n",
      "  Downloading langchain_chroma-0.1.4-py3-none-any.whl.metadata (1.6 kB)\n"
     ]
    },
    {
     "name": "stderr",
     "output_type": "stream",
     "text": [
      "ERROR: Could not find a version that satisfies the requirement langchain-weaviate==0.1.2 (from versions: 0.0.1rc0, 0.0.1rc3, 0.0.1rc4, 0.0.1rc5, 0.0.1rc6, 0.0.1, 0.0.1.post1, 0.0.2, 0.0.3, 0.0.4, 0.1.0.dev0, 0.1.0.dev1)\n",
      "ERROR: No matching distribution found for langchain-weaviate==0.1.2\n"
     ]
    }
   ],
   "source": [
    "# Install all required dependencies\n",
    "!pip install langchain==0.3.1 \\\n",
    "             langchain-openai==0.2.1 \\\n",
    "             \"langchain-core>=0.1.0\" \\\n",
    "             \"langgraph>0.2.27\" \\\n",
    "             groq==0.4.2 \\\n",
    "             pandas==2.2.3 \\\n",
    "             python-dotenv==1.0.1 \\\n",
    "             streamlit==1.39.0 \\\n",
    "             fastapi==0.115.0 \\\n",
    "             uvicorn==0.30.6 \\\n",
    "             pytest==8.3.3 \\\n",
    "             langchain-pinecone==0.1.3 \\\n",
    "             langchain-chroma==0.1.4 \\\n",
    "             langchain-weaviate==0.1.2\n",
    "\n"
   ]
  },
  {
   "cell_type": "code",
   "execution_count": null,
   "metadata": {},
   "outputs": [],
   "source": []
  }
 ],
 "metadata": {
  "kernelspec": {
   "display_name": "microza",
   "language": "python",
   "name": "python3"
  },
  "language_info": {
   "codemirror_mode": {
    "name": "ipython",
    "version": 3
   },
   "file_extension": ".py",
   "mimetype": "text/x-python",
   "name": "python",
   "nbconvert_exporter": "python",
   "pygments_lexer": "ipython3",
   "version": "3.9.21"
  }
 },
 "nbformat": 4,
 "nbformat_minor": 2
}
